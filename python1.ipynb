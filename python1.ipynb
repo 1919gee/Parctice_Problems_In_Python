{
  "nbformat": 4,
  "nbformat_minor": 0,
  "metadata": {
    "colab": {
      "provenance": []
    },
    "kernelspec": {
      "name": "python3",
      "display_name": "Python 3"
    },
    "language_info": {
      "name": "python"
    }
  },
  "cells": [
    {
      "cell_type": "code",
      "metadata": {
        "colab": {
          "base_uri": "https://localhost:8080/"
        },
        "id": "xtLnI5n10lHI",
        "outputId": "f1273df0-8a83-476d-a767-cb409296ecbc"
      },
      "source": [
        "print(\"Twinkle, twinkle, little star,\\n\\t How I wonder what you are! \\n\\t\\t Up above the world so high,\\n\\t\\t Like a diamond in the sky.\\n Twinkle, twinkle, little star,\\n\\t How I wonder what you are\")\n"
      ],
      "execution_count": null,
      "outputs": [
        {
          "output_type": "stream",
          "text": [
            "Twinkle, twinkle, little star,\n",
            "\t How I wonder what you are! \n",
            "\t\t Up above the world so high,\n",
            "\t\t Like a diamond in the sky.\n",
            " Twinkle, twinkle, little star,\n",
            "\t How I wonder what you are\n"
          ],
          "name": "stdout"
        }
      ]
    },
    {
      "cell_type": "code",
      "metadata": {
        "colab": {
          "base_uri": "https://localhost:8080/"
        },
        "id": "uHl5wA24feU5",
        "outputId": "16175184-0cba-432c-c250-835c875c42e7"
      },
      "source": [
        "animal = 'abacabC'\n",
        "dinosaur = 'bc'\n",
        "count = 1\n",
        "for i in range(len(animal)):\n",
        "    for j in range(len(dinosaur)):\n",
        "        if j == i :\n",
        "            count += 1\n",
        "print(count)"
      ],
      "execution_count": null,
      "outputs": [
        {
          "output_type": "stream",
          "text": [
            "3\n"
          ],
          "name": "stdout"
        }
      ]
    },
    {
      "cell_type": "code",
      "metadata": {
        "id": "7prerKGOgNmc",
        "colab": {
          "base_uri": "https://localhost:8080/"
        },
        "outputId": "f27c6e0d-4f06-405e-af41-cb1198e8931e"
      },
      "source": [
        "a = [6,7,8,1,4]\n",
        "x = sorted(a)\n",
        "print(x[-1])"
      ],
      "execution_count": null,
      "outputs": [
        {
          "output_type": "stream",
          "text": [
            "8\n"
          ],
          "name": "stdout"
        }
      ]
    },
    {
      "cell_type": "markdown",
      "metadata": {
        "id": "inHG628yFMOM"
      },
      "source": [
        "**7. Write a Python program to accept a filename from the user and print the extension of that. Go to the editor\n",
        "Sample filename : abc.java\n",
        "Output : java**"
      ]
    },
    {
      "cell_type": "code",
      "metadata": {
        "colab": {
          "base_uri": "https://localhost:8080/"
        },
        "id": "pkQrxqQB9tfK",
        "outputId": "84716754-723e-423f-dfb6-8450b580eb05"
      },
      "source": [
        "filename = input(\"Input the Filename: \")\n",
        "f_extns = filename.split(\".\")\n",
        "print (\"extension file:\",f_extns[-1])"
      ],
      "execution_count": null,
      "outputs": [
        {
          "output_type": "stream",
          "text": [
            "Input the Filename: abc.py\n",
            "extension file: py\n"
          ],
          "name": "stdout"
        }
      ]
    },
    {
      "cell_type": "markdown",
      "metadata": {
        "id": "0vNuu3R_ezwd"
      },
      "source": [
        "**8. Write a Python program to display the first and last colors from the following list.\n",
        "color_list = [\"Red\",\"Green\",\"White\" ,\"Black\"].**"
      ]
    },
    {
      "cell_type": "code",
      "metadata": {
        "colab": {
          "base_uri": "https://localhost:8080/"
        },
        "id": "4CZ2BNzhFY07",
        "outputId": "ffd95a91-40be-43b5-a231-f7ba853fe94f"
      },
      "source": [
        "color= [\"Red\",\"Green\",\"White\" ,\"Black\"]\n",
        "print(color[0],color[3])"
      ],
      "execution_count": null,
      "outputs": [
        {
          "output_type": "stream",
          "text": [
            "Red Black\n"
          ],
          "name": "stdout"
        }
      ]
    },
    {
      "cell_type": "markdown",
      "metadata": {
        "id": "oTYkxqQ3esVe"
      },
      "source": [
        "**9. Write a Python program to display the examination schedule. (extract the date from exam_st_date).exam_st_date = (11, 12, 2014)\n",
        "Sample Output : The examination will start from : 11 / 12 / 2014**"
      ]
    },
    {
      "cell_type": "code",
      "metadata": {
        "colab": {
          "base_uri": "https://localhost:8080/"
        },
        "id": "ObsLA1PfGkqx",
        "outputId": "91d292ae-5856-43d5-a81f-7b6cb59368f8"
      },
      "source": [
        "exam= (11, 12, 2014)\n",
        "print(exam[0],\"/\",exam[1],\"/\",exam[2])"
      ],
      "execution_count": null,
      "outputs": [
        {
          "output_type": "stream",
          "text": [
            "11 / 12 / 2014\n"
          ],
          "name": "stdout"
        }
      ]
    },
    {
      "cell_type": "code",
      "metadata": {
        "colab": {
          "base_uri": "https://localhost:8080/"
        },
        "id": "-8_qmyUjRByB",
        "outputId": "f8081080-b625-41c0-e603-dda5e2c84090"
      },
      "source": [
        "n=int(input(\"enter:\"))\n",
        "a=n+n**2+n**3\n",
        "print(a)"
      ],
      "execution_count": null,
      "outputs": [
        {
          "output_type": "stream",
          "text": [
            "enter:5\n",
            "155\n"
          ],
          "name": "stdout"
        }
      ]
    },
    {
      "cell_type": "markdown",
      "metadata": {
        "id": "BwXXBTH3ehS5"
      },
      "source": [
        "**14. Write a Python program to calculate number of days between two dates.\n",
        "Sample dates : (2014, 7, 2), (2014, 7, 11)\n",
        "Expected output : 9 days**"
      ]
    },
    {
      "cell_type": "code",
      "metadata": {
        "colab": {
          "base_uri": "https://localhost:8080/"
        },
        "id": "_0S1dSsTSAJZ",
        "outputId": "5e2840d5-4468-4c73-8e05-742a78a8c50e"
      },
      "source": [
        "sample= ((2014, 7, 2), (2014, 7, 11))\n",
        "a=sample[0][2]\n",
        "b=sample[1][2]\n",
        "c=b-a\n",
        "print(c,\"days\")\n"
      ],
      "execution_count": null,
      "outputs": [
        {
          "output_type": "stream",
          "text": [
            "9 days\n"
          ],
          "name": "stdout"
        }
      ]
    },
    {
      "cell_type": "markdown",
      "metadata": {
        "id": "tsZYBDq-edEw"
      },
      "source": [
        "**15. Write a Python program to get the volume of a sphere with radius 6.**"
      ]
    },
    {
      "cell_type": "code",
      "metadata": {
        "colab": {
          "base_uri": "https://localhost:8080/"
        },
        "id": "Iw_7Z38pTAWa",
        "outputId": "46f4d462-d2fc-455b-b941-63ad075ad915"
      },
      "source": [
        "r=int(input(\"enter the radius:\"))\n",
        "V = 4/3*3.14 * r**3\n",
        "print(V)"
      ],
      "execution_count": null,
      "outputs": [
        {
          "output_type": "stream",
          "text": [
            "enter the radius:6\n",
            "904.3199999999999\n"
          ],
          "name": "stdout"
        }
      ]
    },
    {
      "cell_type": "markdown",
      "metadata": {
        "id": "X5hA-M6DeWLx"
      },
      "source": [
        "**16. Write a Python program to get the difference between a given number and 17, if the number is greater than 17 return double the absolute difference.**"
      ]
    },
    {
      "cell_type": "code",
      "metadata": {
        "colab": {
          "base_uri": "https://localhost:8080/"
        },
        "id": "KPUwjempTWg9",
        "outputId": "3a821e43-642b-4ace-b116-1eaabac3e6e7"
      },
      "source": [
        "n=int(input(\"enter the number:\"))\n",
        "a=n-17\n",
        "if n>17:\n",
        "  print(2*a)\n",
        "else:\n",
        "  print(a)"
      ],
      "execution_count": null,
      "outputs": [
        {
          "output_type": "stream",
          "text": [
            "enter the number:20\n",
            "6\n"
          ],
          "name": "stdout"
        }
      ]
    },
    {
      "cell_type": "markdown",
      "metadata": {
        "id": "iNuGCE6oeD_7"
      },
      "source": [
        "**18. Write a Python program to calculate the sum of three given numbers, if the values are equal then return three times of their sum.**"
      ]
    },
    {
      "cell_type": "code",
      "metadata": {
        "colab": {
          "base_uri": "https://localhost:8080/"
        },
        "id": "uuEdsumPUBZN",
        "outputId": "9e535a29-8a45-49ef-a0b7-fe5ed87d17a5"
      },
      "source": [
        "def sum(x,y,z):\n",
        "  if x==y==z:\n",
        "    return ((x+y+z)**3)\n",
        "  else:\n",
        "    return (x+y+z)\n",
        "x=int(input(\"enter:\"))\n",
        "y=int(input(\"enter:\"))\n",
        "z=int(input(\"enter:\"))\n",
        "print(sum(x,y,z))"
      ],
      "execution_count": null,
      "outputs": [
        {
          "output_type": "stream",
          "text": [
            "enter:1\n",
            "enter:1\n",
            "enter:1\n",
            "27\n"
          ],
          "name": "stdout"
        }
      ]
    },
    {
      "cell_type": "markdown",
      "metadata": {
        "id": "08BCHUxId-0T"
      },
      "source": [
        "**19. Write a Python program to get a new string from a given string where \"Is\" has been added to the front. If the given string already begins with \"Is\" then return the string unchanged**"
      ]
    },
    {
      "cell_type": "code",
      "metadata": {
        "colab": {
          "base_uri": "https://localhost:8080/"
        },
        "id": "sTRzLDTEVnRx",
        "outputId": "1313798a-6e4f-464a-8cc0-906f740ae753"
      },
      "source": [
        "def s(n):\n",
        "  for i in range(len(n[:2])):\n",
        "    if \"Is\" not in n:\n",
        "      return \"Is\"+n\n",
        "    else:\n",
        "      return n\n",
        "n=input(\"enter:\")\n",
        "print(s(n))"
      ],
      "execution_count": null,
      "outputs": [
        {
          "output_type": "stream",
          "text": [
            "enter:kilmh\n",
            "Iskilmh\n"
          ],
          "name": "stdout"
        }
      ]
    },
    {
      "cell_type": "markdown",
      "metadata": {
        "id": "aH0E1F7vd5cM"
      },
      "source": [
        "**22. Write a Python program to count the number 4 in a given list.**"
      ]
    },
    {
      "cell_type": "code",
      "metadata": {
        "colab": {
          "base_uri": "https://localhost:8080/"
        },
        "id": "zIybBMKnYo2u",
        "outputId": "0a8f015d-d718-496c-afd7-e38cc66f1341"
      },
      "source": [
        "def c(l1):\n",
        "  count=0\n",
        "  for num in l1:\n",
        "    if num==4:\n",
        "      count +=1\n",
        "  return count\n",
        "l1=[1,4,2,4,5,4,6,8,3]\n",
        "print(c(l1))\n"
      ],
      "execution_count": null,
      "outputs": [
        {
          "output_type": "stream",
          "text": [
            "3\n"
          ],
          "name": "stdout"
        }
      ]
    },
    {
      "cell_type": "markdown",
      "metadata": {
        "id": "AGavrazbdbIx"
      },
      "source": [
        "**23. Write a Python program to get the n (non-negative integer) copies of the first 2 characters of a given string. Return the n copies of the whole string if the length is less than 2**"
      ]
    },
    {
      "cell_type": "code",
      "metadata": {
        "colab": {
          "base_uri": "https://localhost:8080/"
        },
        "id": "gspGJhYBb6DJ",
        "outputId": "f029b607-d893-4a61-b1ed-74d748662645"
      },
      "source": [
        "n=input(\"enter:\")\n",
        "a=int(input(\"enter:\"))\n",
        "b=n[:2]\n",
        "for i in range(0,a):\n",
        "  print(b,end=\"\")\n"
      ],
      "execution_count": null,
      "outputs": [
        {
          "output_type": "stream",
          "text": [
            "enter:p\n",
            "enter:3\n",
            "ppp"
          ],
          "name": "stdout"
        }
      ]
    },
    {
      "cell_type": "markdown",
      "metadata": {
        "id": "nw9JMuPegfwE"
      },
      "source": [
        "**Write a Python program to check whether a specified value is contained in a group of values.**"
      ]
    },
    {
      "cell_type": "code",
      "metadata": {
        "colab": {
          "base_uri": "https://localhost:8080/"
        },
        "id": "wUmB-R_KdEdR",
        "outputId": "f5bc13b0-ae0d-498b-a424-0ceaae86a2a6"
      },
      "source": [
        "def c(l1):\n",
        "  if a in l1:\n",
        "    return True\n",
        "  else:\n",
        "    return False\n",
        "l1=[]\n",
        "n=int(input(\"enter the range of list:\"))\n",
        "for i in range(n):\n",
        "  e=int(input(\"enter the elements:\"))\n",
        "  l1.append(e)\n",
        "a=int(input(\"enter the number which u have to find in list:\"))\n",
        "print(c(l1))"
      ],
      "execution_count": null,
      "outputs": [
        {
          "output_type": "stream",
          "text": [
            "enter the range of list:5\n",
            "enter the elements:1\n",
            "enter the elements:2\n",
            "enter the elements:3\n",
            "enter the elements:4\n",
            "enter the elements:5\n",
            "enter the number which u have to find in list:6\n",
            "False\n"
          ],
          "name": "stdout"
        }
      ]
    },
    {
      "cell_type": "markdown",
      "metadata": {
        "id": "xwsrpZMZjQ_h"
      },
      "source": [
        "**Write a Python program to create a histogram from a given list of integers.**"
      ]
    },
    {
      "cell_type": "code",
      "metadata": {
        "colab": {
          "base_uri": "https://localhost:8080/"
        },
        "id": "JNXfuNtCiSKJ",
        "outputId": "a63ce968-b25a-4ddb-f617-26cee7377a03"
      },
      "source": [
        "def histogram( items ):\n",
        "  for n in items:\n",
        "    output = ''\n",
        "    t = n\n",
        "    while( t > 0 ):\n",
        "      output += '*'\n",
        "      t -=1\n",
        "    print(output)\n",
        "\n",
        "histogram([2, 3, 6, 5])"
      ],
      "execution_count": null,
      "outputs": [
        {
          "output_type": "stream",
          "text": [
            "**\n",
            "***\n",
            "******\n",
            "*****\n"
          ],
          "name": "stdout"
        }
      ]
    },
    {
      "cell_type": "markdown",
      "metadata": {
        "id": "nFodnZVAjykJ"
      },
      "source": [
        "**27. Write a Python program to concatenate all elements in a list into a string and return it.**"
      ]
    },
    {
      "cell_type": "code",
      "metadata": {
        "id": "6Dsfi3Twjqcq",
        "colab": {
          "base_uri": "https://localhost:8080/"
        },
        "outputId": "60af19e6-299e-47cc-8272-89cab8c2c415"
      },
      "source": [
        "l1=[1,2,3,4,5,6]\n",
        "for n in l1:\n",
        "  print(n,end='')"
      ],
      "execution_count": null,
      "outputs": [
        {
          "output_type": "stream",
          "text": [
            "123456"
          ],
          "name": "stdout"
        }
      ]
    },
    {
      "cell_type": "markdown",
      "metadata": {
        "id": "1uqwqVzokCDe"
      },
      "source": [
        "**28. Write a Python program to print all even numbers from a given numbers list in the same order and stop the printing if any numbers that come after 237 in the sequence.Sample numbers list :**\n",
        "\n",
        "**numbers = [386, 462, 47, 418, 907, 344, 236, 375, 823, 566, 597, 978, 328, 615, 953, 345, 399, 162, 758, 219, 918, 237, 412, 566, 826, 248, 866, 950, 626, 949, 687, 217, 815, 67, 104, 58, 512, 24, 892, 894, 767, 553, 81, 379, 843, 831, 445, 742, 717, 958,743, 527]**"
      ]
    },
    {
      "cell_type": "code",
      "metadata": {
        "id": "T80AVxm_kEAt",
        "colab": {
          "base_uri": "https://localhost:8080/"
        },
        "outputId": "fce08002-9a73-4418-dcd2-57f4f98da4e2"
      },
      "source": [
        "numbers = [\n",
        "    386, 462, 47, 418, 907, 344, 236, 375, 823, 566, 597, 978, 328, 615, 953, 345,\n",
        "    399, 162, 758, 219, 918, 237, 412, 566, 826, 248, 866, 950, 626, 949, 687, 217,\n",
        "    815, 67, 104, 58, 512, 24, 892, 894, 767, 553, 81, 379, 843, 831, 445, 742, 717,\n",
        "    958,743, 527\n",
        "    ]\n",
        "\n",
        "for x in numbers:\n",
        "    if x == 237:\n",
        "        print(x)\n",
        "        break;\n",
        "    elif x % 2 == 0:\n",
        "        print(x)\n"
      ],
      "execution_count": null,
      "outputs": [
        {
          "output_type": "stream",
          "text": [
            "386\n",
            "462\n",
            "418\n",
            "344\n",
            "236\n",
            "566\n",
            "978\n",
            "328\n",
            "162\n",
            "758\n",
            "918\n",
            "237\n"
          ],
          "name": "stdout"
        }
      ]
    },
    {
      "cell_type": "markdown",
      "metadata": {
        "id": "1_w0SjNPkET1"
      },
      "source": [
        "**29. Write a Python program to print out a set containing all the colors from color_list_1 which are not present in color_list_2. Go to the editor\n",
        "Test Data :\n",
        "color_list_1 = set([\"White\", \"Black\", \"Red\"])\n",
        "color_list_2 = set([\"Red\", \"Green\"])\n",
        "Expected Output :\n",
        "{'Black', 'White'}**"
      ]
    },
    {
      "cell_type": "code",
      "metadata": {
        "id": "9A-vsjubkMVg",
        "colab": {
          "base_uri": "https://localhost:8080/"
        },
        "outputId": "6080b082-cfb3-4fa8-f456-d845b4c5c3e4"
      },
      "source": [
        "l1 = set([\"White\", \"Black\", \"Red\"])\n",
        "l2= set([\"Red\", \"Green\"])\n",
        "s1=set(l1)\n",
        "s2=set(l2)\n",
        "mylist=s1.difference(s2)\n",
        "print(mylist)\n",
        "\n"
      ],
      "execution_count": null,
      "outputs": [
        {
          "output_type": "stream",
          "text": [
            "{'Black', 'White'}\n"
          ],
          "name": "stdout"
        }
      ]
    },
    {
      "cell_type": "markdown",
      "metadata": {
        "id": "FeKp_NLZj9mh"
      },
      "source": [
        "**31. Write a Python program to compute the greatest common divisor (GCD) of two positive integers.**"
      ]
    },
    {
      "cell_type": "code",
      "metadata": {
        "colab": {
          "base_uri": "https://localhost:8080/"
        },
        "id": "AoyrmZ5jji89",
        "outputId": "84730e16-7a28-44e1-8291-ceec22659515"
      },
      "source": [
        "def gcd(x, y):\n",
        "  gcd = 1\n",
        "  if x % y == 0:\n",
        "    return y\n",
        "  for k in range(int(y / 2), 0, -1):\n",
        "    if x % k == 0 and y % k == 0:\n",
        "      gcd = k\n",
        "      break\n",
        "  return gcd\n",
        "x=int(input('enter:'))\n",
        "y=int(input('enter:'))\n",
        "print(\"GCD of\",x,'&',y,\"=\",gcd(x, y))\n"
      ],
      "execution_count": null,
      "outputs": [
        {
          "output_type": "stream",
          "text": [
            "enter:4\n",
            "enter:6\n",
            "GCD of 4 & 6 = 2\n"
          ],
          "name": "stdout"
        }
      ]
    },
    {
      "cell_type": "code",
      "metadata": {
        "colab": {
          "base_uri": "https://localhost:8080/"
        },
        "id": "px1ainbDCB0M",
        "outputId": "9f550d40-d2a8-413e-bd11-3c8771fb482c"
      },
      "source": [
        "a=int(input(\"enter:\"))\n",
        "b=int(input(\"enter:\"))\n",
        "for i in range(int(max(a,b)/2),0,-1):\n",
        "  if a % i ==0 and b % i == 0:\n",
        "    gcd=i\n",
        "    break\n",
        "print(gcd)"
      ],
      "execution_count": null,
      "outputs": [
        {
          "output_type": "stream",
          "text": [
            "enter:4\n",
            "enter:6\n",
            "2\n"
          ],
          "name": "stdout"
        }
      ]
    },
    {
      "cell_type": "code",
      "metadata": {
        "colab": {
          "base_uri": "https://localhost:8080/"
        },
        "id": "4uUGAk_aEq30",
        "outputId": "630534b7-2224-440b-fa01-7a96eb0669e8"
      },
      "source": [
        "max(4,5)"
      ],
      "execution_count": null,
      "outputs": [
        {
          "output_type": "execute_result",
          "data": {
            "text/plain": [
              "5"
            ]
          },
          "metadata": {
            "tags": []
          },
          "execution_count": 17
        }
      ]
    },
    {
      "cell_type": "markdown",
      "metadata": {
        "id": "uzYClMt1qdBo"
      },
      "source": [
        "**32. Write a Python program to get the least common multiple (LCM) of two positive integers**"
      ]
    },
    {
      "cell_type": "code",
      "metadata": {
        "id": "axMIz4ecqZ4x",
        "colab": {
          "base_uri": "https://localhost:8080/"
        },
        "outputId": "811c9d0f-190f-4f57-f525-6ee3afec4ad7"
      },
      "source": [
        "def lcm(x, y):\n",
        "  if x > y:\n",
        "      z = x\n",
        "  else:\n",
        "      z = y\n",
        "  while(True):\n",
        "      if((z % x == 0) and (z % y == 0)):\n",
        "          lcm = z\n",
        "          break\n",
        "      z += 1\n",
        "  return lcm\n",
        "x=int(input(\"enter:\"))\n",
        "y=int(input(\"enter:\"))\n",
        "print(\"LCM of\",x,\"&\",y,\"=\",lcm(x,y))"
      ],
      "execution_count": null,
      "outputs": [
        {
          "output_type": "stream",
          "text": [
            "enter:4\n",
            "enter:6\n",
            "LCM of 4 & 6 = 12\n"
          ],
          "name": "stdout"
        }
      ]
    },
    {
      "cell_type": "markdown",
      "metadata": {
        "id": "gCSjnQeybRDR"
      },
      "source": [
        " **Write a Python program that will return true if the two given integer values are equal or their sum or difference is 5**"
      ]
    },
    {
      "cell_type": "code",
      "metadata": {
        "colab": {
          "base_uri": "https://localhost:8080/"
        },
        "id": "2zVqmBUDa4bq",
        "outputId": "205855fb-c14d-4d3a-da07-4b6157c31baf"
      },
      "source": [
        "def d(x,y):\n",
        "  if x==y:\n",
        "    return True\n",
        "  if x-y==5 or x+y==5:\n",
        "    return True\n",
        "  else:\n",
        "    return False\n",
        "x=int(input(\"enter:\"))\n",
        "y=int(input(\"enter:\"))\n",
        "print(d(x,y))"
      ],
      "execution_count": null,
      "outputs": [
        {
          "output_type": "stream",
          "text": [
            "enter:5\n",
            "enter:0\n",
            "True\n"
          ],
          "name": "stdout"
        }
      ]
    },
    {
      "cell_type": "code",
      "metadata": {
        "id": "SNvV2hSRcaYR",
        "colab": {
          "base_uri": "https://localhost:8080/"
        },
        "outputId": "48d9756b-cf42-47de-b862-9c1cfeed11c8"
      },
      "source": [
        "import threading\n",
        "lock=threading.Lock()\n",
        "with lock:\n",
        "  print (\"critical section 1\")\n",
        "  print (\"critical section 2\")\n"
      ],
      "execution_count": null,
      "outputs": [
        {
          "output_type": "stream",
          "text": [
            "critical section 1\n",
            "critical section 2\n"
          ],
          "name": "stdout"
        }
      ]
    },
    {
      "cell_type": "code",
      "metadata": {
        "id": "h_PmDV0jQdm-",
        "colab": {
          "base_uri": "https://localhost:8080/"
        },
        "outputId": "64b18a71-87f1-4f48-b277-50ff6a221653"
      },
      "source": [
        "textfile = open(\"reverse.txt\")\n",
        "lines = textfile. readlines()\n",
        "for line in reversed(lines):\n",
        "  print(line)"
      ],
      "execution_count": null,
      "outputs": [
        {
          "output_type": "stream",
          "text": [
            "gayi\n",
            "am\n",
            "\n",
            "hi \n",
            "\n"
          ],
          "name": "stdout"
        }
      ]
    },
    {
      "cell_type": "code",
      "metadata": {
        "colab": {
          "base_uri": "https://localhost:8080/"
        },
        "id": "QLFZKri67lVj",
        "outputId": "15ff07a1-4ab3-486d-e4d3-9f3f22188665"
      },
      "source": [
        "a=int(input(\"Enter the first number :\"))\n",
        "b=int(input(\"Enter the second number :\"))\n",
        "print (\"a=\",a, \"b=\",b)\n",
        "(a,b)=(b,a)\n",
        "print(\"a=\",a, \"b=\",b)"
      ],
      "execution_count": null,
      "outputs": [
        {
          "output_type": "stream",
          "text": [
            "Enter the first number :1\n",
            "Enter the second number :2\n",
            "a= 1 b= 2\n",
            "a= 2 b= 1\n"
          ],
          "name": "stdout"
        }
      ]
    },
    {
      "cell_type": "code",
      "metadata": {
        "colab": {
          "base_uri": "https://localhost:8080/"
        },
        "id": "_BWONhBg9u00",
        "outputId": "f0cd755e-40d5-41a1-ccc9-c406eb830f18"
      },
      "source": [
        "def digit(num):\n",
        "  onesdigit=num%10\n",
        "  return onesdigit\n",
        "num=int(input())\n",
        "print(digit(num))"
      ],
      "execution_count": null,
      "outputs": [
        {
          "output_type": "stream",
          "text": [
            "156\n",
            "6\n"
          ],
          "name": "stdout"
        }
      ]
    },
    {
      "cell_type": "markdown",
      "metadata": {
        "id": "LHwDQGLErABr"
      },
      "source": [
        "***nth number**"
      ]
    },
    {
      "cell_type": "code",
      "metadata": {
        "colab": {
          "base_uri": "https://localhost:8080/"
        },
        "id": "Xcqe8r37qFc7",
        "outputId": "a5b7bc31-b0ca-4d70-ef19-c9e8b22c40c4"
      },
      "source": [
        "n=int(input(\"\"))\n",
        "a=0\n",
        "b=1\n",
        "for i in range(1,n+1):\n",
        "    c=a+b\n",
        "    a=b\n",
        "    b=c\n",
        "    i=i+1\n",
        "print(\"output=\",a)"
      ],
      "execution_count": null,
      "outputs": [
        {
          "output_type": "stream",
          "text": [
            "5\n",
            "output= 5\n"
          ],
          "name": "stdout"
        }
      ]
    },
    {
      "cell_type": "code",
      "metadata": {
        "colab": {
          "base_uri": "https://localhost:8080/"
        },
        "id": "dVVlm82Ysjoq",
        "outputId": "10f540d0-2170-4792-cf27-1039d71fd320"
      },
      "source": [
        "a = 1\n",
        "b = 1\n",
        "n = int(input( ))\n",
        "if n <= 0 :\n",
        "    print(\"Not possible\")\n",
        "if n == 1 :\n",
        "    print(a)\n",
        "else :\n",
        "    for i in range(3,n+1) :\n",
        "        c = a+b\n",
        "        a = b\n",
        "        b = c\n",
        "    print(\"output=\",c)"
      ],
      "execution_count": null,
      "outputs": [
        {
          "output_type": "stream",
          "text": [
            "5\n",
            "output= 5\n"
          ],
          "name": "stdout"
        }
      ]
    },
    {
      "cell_type": "markdown",
      "metadata": {
        "id": "LqJ9JYywrT8h"
      },
      "source": [
        "**number of occrence**"
      ]
    },
    {
      "cell_type": "code",
      "metadata": {
        "colab": {
          "base_uri": "https://localhost:8080/"
        },
        "id": "iaDcscLzrQbM",
        "outputId": "04d99caf-f29e-4e64-8d2a-05b8089b7cef"
      },
      "source": [
        "def f(n):\n",
        "  s1=[]\n",
        "  if len(l1)==0:\n",
        "    return 0\n",
        "  for num in l1:\n",
        "    s1.append(l1.count(num))\n",
        "    l1.remove(num)\n",
        "    return max(s1)\n",
        "l1=[]\n",
        "n=int(input())\n",
        "for i in range(0,n):\n",
        "  e=int(input())\n",
        "  l1.append(e)\n",
        "print(\"output=\",f(n))"
      ],
      "execution_count": null,
      "outputs": [
        {
          "output_type": "stream",
          "text": [
            "5\n",
            "1\n",
            "4\n",
            "1\n",
            "7\n",
            "1\n",
            "output= 3\n"
          ],
          "name": "stdout"
        }
      ]
    },
    {
      "cell_type": "markdown",
      "metadata": {
        "id": "GdK_OZdts3qR"
      },
      "source": [
        "**detect**"
      ]
    },
    {
      "cell_type": "code",
      "metadata": {
        "id": "RmYx6J3es1GK",
        "outputId": "7ca06ffa-c419-48c6-bb22-f98deb39a36a",
        "colab": {
          "base_uri": "https://localhost:8080/"
        }
      },
      "source": [
        "def d(a):\n",
        "  l1=[]\n",
        "  for i in range(len(a)):\n",
        "    if a[i] in l1:\n",
        "      return a[i]\n",
        "    else:\n",
        "      l1.append(a[i])\n",
        "print(\"output=\",d([1,1,6,5,1,2]))"
      ],
      "execution_count": null,
      "outputs": [
        {
          "output_type": "stream",
          "name": "stdout",
          "text": [
            "output= 1\n"
          ]
        }
      ]
    },
    {
      "cell_type": "markdown",
      "metadata": {
        "id": "OMevZWlAs8K1"
      },
      "source": [
        "**fizzbuzz**"
      ]
    },
    {
      "cell_type": "code",
      "metadata": {
        "id": "av7DCmhys2Sr"
      },
      "source": [
        "n=int(input(\"enter the number:\"))\n",
        "l1=[]\n",
        "for i in range(1,n+1):\n",
        "  l1.append(str(i))\n",
        "for i in range(len(l1)):\n",
        "  if int(l1[i])%3==0 and int(l1[i])%5==0:\n",
        "    l1[i]='fizzbuzz'\n",
        "  elif int(l1[i])%3==0:\n",
        "    l1[i]='fizz'\n",
        "  elif int(l1[i])%5==0:\n",
        "    l1[i]='buzz'\n",
        "print(l1)"
      ],
      "execution_count": null,
      "outputs": []
    },
    {
      "cell_type": "markdown",
      "metadata": {
        "id": "C2XScqhRs-9F"
      },
      "source": [
        "**validating orders**"
      ]
    },
    {
      "cell_type": "code",
      "metadata": {
        "id": "-BTRNCA5s_Zm"
      },
      "source": [
        "def order(l1):\n",
        "  a={}\n",
        "  if len(set(l1)) != len(l1):\n",
        "    return False\n",
        "  for i in l1:\n",
        "    if i[0]=='p':\n",
        "      a[i[1:]]=1\n",
        "    elif i[0]==\"d\":\n",
        "      if i[1:] not in a:\n",
        "        return False\n",
        "      else:\n",
        "        a[i[1:]] -=1\n",
        "  return sum(a.values())==0\n",
        "n=int(input(\"enter the length of list:\"))\n",
        "l1=[]\n",
        "for i in range(0,n):\n",
        "  e=input(\"enter:\")\n",
        "  l1.append(e)\n",
        "print(order(l1))"
      ],
      "execution_count": null,
      "outputs": []
    },
    {
      "cell_type": "markdown",
      "metadata": {
        "id": "i0fUdUjWtFCm"
      },
      "source": [
        "**bike**"
      ]
    },
    {
      "cell_type": "code",
      "metadata": {
        "id": "mS9jLzsftFX-"
      },
      "source": [
        "l1=[]\n",
        "n=int(input(\"enter how many elements in list:\"))\n",
        "for j in range(0,n):\n",
        "  e=int(input(\"enter elements:\"))\n",
        "  l1.append(e)\n",
        "count=0\n",
        "k=int(input(\"enter the price budget:\"))\n",
        "for i in l1:\n",
        "  if i <= k:\n",
        "    count +=1\n",
        "  else:\n",
        "    count +=0\n",
        "print(count)"
      ],
      "execution_count": null,
      "outputs": []
    },
    {
      "cell_type": "markdown",
      "metadata": {
        "id": "eA-6xqmPtJo3"
      },
      "source": [
        "**anagram**"
      ]
    },
    {
      "cell_type": "code",
      "metadata": {
        "id": "NPshm47QtJ89"
      },
      "source": [
        "s1=input(\"enter the string:\")\n",
        "s2=input(\"enter the number:\")\n",
        "if (sorted(s1)==sorted(s2)):\n",
        "  print('true')\n",
        "else:\n",
        "  print('false')\n"
      ],
      "execution_count": null,
      "outputs": []
    },
    {
      "cell_type": "markdown",
      "metadata": {
        "id": "WQNptCnytOqR"
      },
      "source": [
        "**string lenght**"
      ]
    },
    {
      "cell_type": "code",
      "metadata": {
        "id": "bM5iLDbNtOX5"
      },
      "source": [
        "ls=input(\"enter:\")\n",
        "l1=[]\n",
        "l1.append(ls[1:-1])\n",
        "if len(l1)>1:\n",
        "  l1.append(l1[0][1:-1])\n",
        "else:\n",
        "  len(l1)==0\n",
        "print(len(l1))"
      ],
      "execution_count": null,
      "outputs": []
    },
    {
      "cell_type": "markdown",
      "metadata": {
        "id": "eO4JOKT7tThp"
      },
      "source": [
        "**stack**"
      ]
    },
    {
      "cell_type": "code",
      "metadata": {
        "id": "o1KjVtqbtT4p"
      },
      "source": [
        "def solve(ops):\n",
        "    stack = []\n",
        "    try:\n",
        "        for n in ops:\n",
        "            if n == \"DUP\":\n",
        "                stack.append(stack[-1])\n",
        "            elif n == \"POP\":\n",
        "                stack.pop()\n",
        "            elif n == \"-\":\n",
        "                stack.append(stack.pop() - stack.pop())\n",
        "            elif n == \"+\":\n",
        "                stack.append(stack.pop() + stack.pop())\n",
        "            else:\n",
        "                stack.append(int(n))\n",
        "        return stack[-1]\n",
        "    except:\n",
        "        return -1\n",
        "ops = [\"1\", \"5\", \"DUP\", \"3\", \"-\"]\n",
        "res = solve(ops)\n",
        "print(res)"
      ],
      "execution_count": null,
      "outputs": []
    },
    {
      "cell_type": "markdown",
      "metadata": {
        "id": "Xyv_ZWiUtcn5"
      },
      "source": [
        "**add number**"
      ]
    },
    {
      "cell_type": "code",
      "metadata": {
        "id": "vpQtoO4_tccY"
      },
      "source": [
        "def add(l1):\n",
        "  for i in range (0,len(l1)):\n",
        "    for j in range(0,len(l1)):\n",
        "      if l1[i]+l1[j]==k:\n",
        "        return True\n",
        "  return False\n",
        "l1=[8,3,2,6,1]\n",
        "k=int(input(\"enter the number:\"))\n",
        "print(add(l1))"
      ],
      "execution_count": null,
      "outputs": []
    },
    {
      "cell_type": "markdown",
      "metadata": {
        "id": "kYpST-cltpuJ"
      },
      "source": [
        "**email**"
      ]
    },
    {
      "cell_type": "code",
      "metadata": {
        "id": "DQeWn9pKthCx"
      },
      "source": [
        "import sys, re\n",
        "n = int(input())\n",
        "a = [input() for i in range(n)]\n",
        "print(sorted([s.strip() for s in a if re.match(r'^[a-zA-Z0-9_-]+@[a-zA-Z0-9]+\\.[a-zA-Z0-9]{1,3}$', s)]))"
      ],
      "execution_count": null,
      "outputs": []
    },
    {
      "cell_type": "code",
      "source": [
        "/*\n",
        "\tTime Complexity: O(N ^ 2)\n",
        "\tSpace Complexity: O(1)\n",
        "\n",
        "\tWhere N is the total number of elements in the given array.\n",
        "*/\n",
        "\n",
        "import java.util.ArrayList;\n",
        "import java.lang.Math;\n",
        "\n",
        "public class Solution\n",
        "{\n",
        "    public static int minimumSwaps(ArrayList<Integer> arr, int n, int k)\n",
        "    {\n",
        "        int answer = n;\n",
        "\t    int count = 0;\n",
        "\n",
        "\t    // Count elements less than or equal to k\n",
        "\t    for (int i = 0; i < n; i++)\n",
        "\t    {\n",
        "\t\t    if (arr.get(i) <= k)\n",
        "\t\t    {\n",
        "\t\t\t   count++;\n",
        "\t\t    }\n",
        "\t    }\n",
        "\n",
        "\t    // Calculate minimum swaps for each window of size count and update answer\n",
        "\t    for (int i = 0; i <= (n - count); i++)\n",
        "\t    {\n",
        "\t\t    int currentMin = 0;\n",
        "\t\t    for (int j = i; j < (i + count); j++)\n",
        "\t\t    {\n",
        "\t\t\t    if (arr.get(j) > k)\n",
        "\t\t\t    {\n",
        "\t\t\t\t    currentMin++;\n",
        "\t\t\t    }\n",
        "\t\t    }\n",
        "\t\t    answer = Math.min(answer, currentMin);\n",
        "\t    }\n",
        "\n",
        "\t    return answer;\n",
        "    }\n",
        "}"
      ],
      "metadata": {
        "id": "HkrO8Zao4eSJ"
      },
      "execution_count": null,
      "outputs": []
    },
    {
      "cell_type": "code",
      "source": [
        "'''\n",
        "    Time Complexity: O(N ^ 2)\n",
        "    Space Complexity: O(1)\n",
        "\n",
        "    Where N is the number of elements in the array.\n",
        "'''\n",
        "\n",
        "def minimumSwaps(arr, n, k):\n",
        "    (answer, count) = (n, 0)\n",
        "\n",
        "    # Count elements less than or equal to k\n",
        "\n",
        "    for i in range(n):\n",
        "        if arr[i] <= k:\n",
        "            count += 1\n",
        "\n",
        "    # Calculate minimum swaps for each window of size count and update answer\n",
        "\n",
        "    for i in range(n - count + 1):\n",
        "        currentMin = 0\n",
        "\n",
        "        for j in range(i, i + count):\n",
        "            if arr[j] > k:\n",
        "                currentMin += 1\n",
        "\n",
        "        answer = min(answer, currentMin)\n",
        "\n",
        "    return answer"
      ],
      "metadata": {
        "id": "6mDa_IhI78gZ"
      },
      "execution_count": null,
      "outputs": []
    },
    {
      "cell_type": "code",
      "source": [
        "# Python3 Program to find the minimum number of\n",
        "# adjacent swaps to arrange similar items together\n",
        "\n",
        "# Function to find minimum swaps\n",
        "def findMinimumAdjacentSwaps(arr, N) :\n",
        "\n",
        "    # visited array to check if value is seen already\n",
        "    visited = [False] * (N + 1)\n",
        "\n",
        "    minimumSwaps = 0\n",
        "\n",
        "    for i in range(2 * N) :\n",
        "\n",
        "        # If the arr[i] is seen first time\n",
        "        if (visited[arr[i]] == False) :\n",
        "            visited[arr[i]] = True\n",
        "\n",
        "            # stores the number of swaps required to\n",
        "            # find the correct position of current\n",
        "            # element's partner\n",
        "            count = 0\n",
        "\n",
        "            for j in range( i + 1, 2 * N) :\n",
        "\n",
        "                # Increment count only if the current\n",
        "                # element has not been visited yet (if is\n",
        "                # visited, means it has already been placed\n",
        "                # at its correct position)\n",
        "                if (visited[arr[j]] == False) :\n",
        "                    count += 1\n",
        "\n",
        "                # If current element's partner is found\n",
        "                elif (arr[i] == arr[j]) :\n",
        "                    minimumSwaps += count\n",
        "\n",
        "    return minimumSwaps\n",
        "\n",
        "\n",
        "# Driver Code\n",
        "if __name__ == \"__main__\" :\n",
        "\n",
        "    arr = [ 1, 1, 1, 1, 1, 1]\n",
        "    N = len(arr)\n",
        "    N //= 2\n",
        "\n",
        "    print(findMinimumAdjacentSwaps(arr, N))"
      ],
      "metadata": {
        "colab": {
          "base_uri": "https://localhost:8080/"
        },
        "id": "hovOHJul95qk",
        "outputId": "47267f51-9701-488f-8686-6bf6661c28a2"
      },
      "execution_count": null,
      "outputs": [
        {
          "output_type": "stream",
          "name": "stdout",
          "text": [
            "0\n"
          ]
        }
      ]
    }
  ]
}